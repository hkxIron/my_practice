{
 "cells": [
  {
   "cell_type": "code",
   "execution_count": 1,
   "metadata": {},
   "outputs": [],
   "source": [
    "import functools\n",
    "import time\n",
    "from typing import Callable\n",
    "\n",
    "from termcolor import cprint\n",
    "from functools import *\n",
    "from itertools import *\n",
    "from operator import *"
   ]
  },
  {
   "cell_type": "code",
   "execution_count": 2,
   "metadata": {},
   "outputs": [
    {
     "name": "stdout",
     "output_type": "stream",
     "text": [
      "[0, 1, 3, 6, 10, 15, 21, 28, 36, 45]\n",
      "[0, 3, 6, 9]\n",
      "[0, 3, 6, 9]\n",
      "[1, 2, 4, 5, 7, 8]\n"
     ]
    }
   ],
   "source": [
    "# accumulate\n",
    "print(list(accumulate(range(10))))\n",
    "\n",
    "# filter\n",
    "print(list(filter(lambda x:x%3==0, range(10))))\n",
    "print(list(filter(lambda x:not x%3, range(10))))\n",
    "print(list(filter(lambda x:x%3!=0, range(10))))"
   ]
  },
  {
   "cell_type": "code",
   "execution_count": 6,
   "metadata": {},
   "outputs": [
    {
     "data": {
      "text/plain": [
       "[('我', '是'), ('是', '中'), ('中', '国'), ('国', '人')]"
      ]
     },
     "execution_count": 6,
     "metadata": {},
     "output_type": "execute_result"
    }
   ],
   "source": [
    "list(pairwise(\"我是中国人\")) # bi-gram, 不再使用zip"
   ]
  },
  {
   "cell_type": "code",
   "execution_count": 8,
   "metadata": {},
   "outputs": [
    {
     "name": "stdout",
     "output_type": "stream",
     "text": [
      "[('a', <itertools._grouper object at 0x7f76b8d28130>), ('b', <itertools._grouper object at 0x7f76b8d295a0>), ('c', <itertools._grouper object at 0x7f76b8d2b490>), ('d', <itertools._grouper object at 0x7f76b8d2a170>), ('a', <itertools._grouper object at 0x7f76b8d296c0>)]\n",
      "['A', 'B', 'C', 'A']\n"
     ]
    }
   ],
   "source": [
    "x=groupby(\"aabbccccdddaa\")\n",
    "print(list(x))\n",
    "\n",
    "print([k for k,g in groupby(\"AAABBCCAA\")])"
   ]
  },
  {
   "cell_type": "code",
   "execution_count": 11,
   "metadata": {},
   "outputs": [
    {
     "data": {
      "text/plain": [
       "[32, 9]"
      ]
     },
     "execution_count": 11,
     "metadata": {},
     "output_type": "execute_result"
    }
   ],
   "source": [
    "list(starmap(pow, [(2,5), (3,2)])) # 2**5, 3**2"
   ]
  },
  {
   "cell_type": "code",
   "execution_count": 13,
   "metadata": {},
   "outputs": [
    {
     "data": {
      "text/plain": [
       "[('a', '1'),\n",
       " ('b', '2'),\n",
       " ('c', '3'),\n",
       " ('?', '4'),\n",
       " ('?', '2'),\n",
       " ('?', '3'),\n",
       " ('?', '4')]"
      ]
     },
     "execution_count": 13,
     "metadata": {},
     "output_type": "execute_result"
    }
   ],
   "source": [
    "list(zip_longest(\"abc\", \"1234234\", fillvalue=\"?\"))"
   ]
  },
  {
   "cell_type": "code",
   "execution_count": 15,
   "metadata": {},
   "outputs": [
    {
     "data": {
      "text/plain": [
       "'1a3b4c23456'"
      ]
     },
     "execution_count": 15,
     "metadata": {},
     "output_type": "execute_result"
    }
   ],
   "source": [
    "word1=\"13423456\"\n",
    "word2=\"abc\"\n",
    "# 两个字符串交错相连\n",
    "from operator import add\n",
    "\"\".join(starmap(add, zip_longest(word1, word2, fillvalue=\"\")))"
   ]
  },
  {
   "cell_type": "code",
   "execution_count": 20,
   "metadata": {},
   "outputs": [
    {
     "name": "stdout",
     "output_type": "stream",
     "text": [
      "0 0 0\n",
      "0 0 1\n",
      "0 1 0\n",
      "0 1 1\n",
      "1 0 0\n",
      "1 0 1\n",
      "1 1 0\n",
      "1 1 1\n"
     ]
    }
   ],
   "source": [
    "# 笛卡尔积\n",
    "for x, y, z in product(range(2), repeat=3):\n",
    "    print(x,y,z)"
   ]
  },
  {
   "cell_type": "code",
   "execution_count": 21,
   "metadata": {},
   "outputs": [
    {
     "name": "stdout",
     "output_type": "stream",
     "text": [
      "12\n",
      "12\n",
      "12\n",
      "12\n",
      "12\n"
     ]
    }
   ],
   "source": [
    "for num in repeat(12, 5):\n",
    "    print(num)"
   ]
  },
  {
   "cell_type": "code",
   "execution_count": 24,
   "metadata": {},
   "outputs": [
    {
     "name": "stdout",
     "output_type": "stream",
     "text": [
      "12\n",
      "12\n",
      "12\n",
      "12\n",
      "12\n",
      "34\n",
      "34\n",
      "34\n"
     ]
    }
   ],
   "source": [
    "\n",
    "for num in chain(repeat(12, 5), repeat(34, 3)):\n",
    "    print(num)"
   ]
  },
  {
   "cell_type": "code",
   "execution_count": 28,
   "metadata": {},
   "outputs": [
    {
     "name": "stdout",
     "output_type": "stream",
     "text": [
      "66\n",
      "66\n",
      "66\n",
      "66\n",
      "66\n"
     ]
    }
   ],
   "source": [
    "# repeat无限循环\n",
    "for i, x in enumerate(repeat(66)):\n",
    "    if i<5:\n",
    "        print(x)\n",
    "    else:\n",
    "        break\n"
   ]
  },
  {
   "cell_type": "code",
   "execution_count": 30,
   "metadata": {},
   "outputs": [
    {
     "name": "stdout",
     "output_type": "stream",
     "text": [
      "20\n",
      "23\n",
      "26\n",
      "29\n",
      "32\n",
      "35\n",
      "38\n",
      "41\n",
      "44\n",
      "47\n",
      "50\n"
     ]
    }
   ],
   "source": [
    "for i,x in enumerate(count(20,3)):\n",
    "    if i>10:\n",
    "        break\n",
    "    print(x)"
   ]
  },
  {
   "cell_type": "code",
   "execution_count": 32,
   "metadata": {},
   "outputs": [
    {
     "name": "stdout",
     "output_type": "stream",
     "text": [
      "a=1 b=2 a*b=2\n",
      "a=2 b=4 a*b=8\n",
      "a=3 b=6 a*b=18\n",
      "a=4 b=8 a*b=32\n",
      "a=5 b=10 a*b=50\n",
      "a=6 b=12 a*b=72\n",
      "a=7 b=14 a*b=98\n",
      "a=8 b=16 a*b=128\n",
      "a=9 b=18 a*b=162\n",
      "a=10 b=20 a*b=200\n"
     ]
    }
   ],
   "source": [
    "for a,b in zip(count(1),  count(2,2)):\n",
    "    if a>10:\n",
    "        break\n",
    "    print(f\"a={a} b={b} a*b={a*b}\")"
   ]
  },
  {
   "cell_type": "code",
   "execution_count": 33,
   "metadata": {},
   "outputs": [
    {
     "name": "stdout",
     "output_type": "stream",
     "text": [
      "0 1\n",
      "1 2\n",
      "2 3\n",
      "3 4\n"
     ]
    }
   ],
   "source": [
    "arr=[1,2,3,4]\n",
    "for i, n in zip(count(0), arr): # 替代enumerate\n",
    "    print(i,n)"
   ]
  },
  {
   "cell_type": "code",
   "execution_count": null,
   "metadata": {},
   "outputs": [],
   "source": []
  }
 ],
 "metadata": {
  "kernelspec": {
   "display_name": "base",
   "language": "python",
   "name": "python3"
  },
  "language_info": {
   "codemirror_mode": {
    "name": "ipython",
    "version": 3
   },
   "file_extension": ".py",
   "mimetype": "text/x-python",
   "name": "python",
   "nbconvert_exporter": "python",
   "pygments_lexer": "ipython3",
   "version": "3.11.5"
  }
 },
 "nbformat": 4,
 "nbformat_minor": 2
}
